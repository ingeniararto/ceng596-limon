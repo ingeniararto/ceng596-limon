{
 "cells": [
  {
   "cell_type": "markdown",
   "id": "c39f936e",
   "metadata": {},
   "source": [
    "# Dataset Info"
   ]
  },
  {
   "cell_type": "markdown",
   "id": "a5e63d4a",
   "metadata": {},
   "source": [
    "## Metadata for vaswani\n",
    "{\n",
    "  \"docs\": {\n",
    "    \"count\": 11429,\n",
    "    \"fields\": {\n",
    "      \"doc_id\": {\n",
    "        \"max_len\": 5,\n",
    "        \"common_prefix\": \"\"\n",
    "      }\n",
    "    }\n",
    "  },\n",
    "  \"queries\": {\n",
    "    \"count\": 93\n",
    "  },\n",
    "  \"qrels\": {\n",
    "    \"count\": 2083,\n",
    "    \"fields\": {\n",
    "      \"relevance\": {\n",
    "        \"counts_by_value\": {\n",
    "          \"1\": 2083\n",
    "        }\n",
    "      }\n",
    "    }\n",
    "  }\n",
    "}"
   ]
  },
  {
   "cell_type": "markdown",
   "id": "3fc855d6",
   "metadata": {},
   "source": [
    "# Implementation"
   ]
  },
  {
   "cell_type": "code",
   "execution_count": 55,
   "id": "aa9a2ce9",
   "metadata": {},
   "outputs": [],
   "source": [
    "import pyterrier as pt\n",
    "\n",
    "if not pt.java.started():\n",
    "    pt.init()\n"
   ]
  },
  {
   "cell_type": "code",
   "execution_count": 62,
   "id": "3f96ade0",
   "metadata": {},
   "outputs": [],
   "source": [
    "dataset = pt.get_dataset('irds:vaswani')"
   ]
  },
  {
   "cell_type": "code",
   "execution_count": null,
   "id": "9fc31bc3",
   "metadata": {},
   "outputs": [],
   "source": [
    "import os\n",
    "\n",
    "raw_index_path = './indices/vaswani_positional_raw'\n",
    "index_path = './indices/vaswani_positional'\n",
    "\n",
    "def create_index(index_path, stemmer=None, stop_words=None):\n",
    "    indexer = pt.IterDictIndexer(\n",
    "        index_path=index_path, \n",
    "        blocks=True, # to save positional information\n",
    "        overwrite=True, \n",
    "        text_attrs=['text'], \n",
    "        meta_reverse=['docno'], \n",
    "        meta={'docno': 5},\n",
    "        verbose=1,\n",
    "        stemmer=stemmer,\n",
    "        stopwords=stop_words,\n",
    "        tokeniser=pt.TerrierTokeniser.english,\n",
    "        type=pt.IndexingType.CLASSIC\n",
    "    )\n",
    "\n",
    "    index_ref = indexer.index(docs) # type: ignore\n",
    "    return pt.IndexFactory.of(index_ref) # type: ignore\n",
    "\n",
    "# if indices are already created, do not create again\n",
    "if not os.path.exists(raw_index_path):\n",
    "    raw_index = create_index(\n",
    "        index_path=raw_index_path\n",
    "    )\n",
    "else:\n",
    "    raw_index = pt.IndexFactory.of(raw_index_path)\n",
    "if not os.path.exists(index_path):\n",
    "    index = create_index(\n",
    "        index_path=index_path,\n",
    "        stemmer=pt.TerrierStemmer.porter,\n",
    "        stop_words=pt.TerrierStopwords.terrier\n",
    "    )\n",
    "else:\n",
    "    index = pt.IndexFactory.of(index_path)"
   ]
  },
  {
   "cell_type": "code",
   "execution_count": 67,
   "id": "009c5551",
   "metadata": {},
   "outputs": [
    {
     "name": "stdout",
     "output_type": "stream",
     "text": [
      "Raw index statistics:\n",
      "Number of documents: 11429\n",
      "Number of terms: 7756\n",
      "Number of postings: 224616\n",
      "Number of fields: 0\n",
      "Number of tokens: 271634\n",
      "Field names: []\n",
      "Positions:   true\n",
      "\n",
      "Preprocessed index statistics:\n",
      "Number of documents: 11429\n",
      "Number of terms: 7706\n",
      "Number of postings: 226290\n",
      "Number of fields: 0\n",
      "Number of tokens: 273326\n",
      "Field names: []\n",
      "Positions:   true\n",
      "\n"
     ]
    }
   ],
   "source": [
    "print(\"Raw index statistics:\")\n",
    "print(raw_index.getCollectionStatistics().toString())\n",
    "print(\"Preprocessed index statistics:\")\n",
    "print(index.getCollectionStatistics().toString())"
   ]
  },
  {
   "cell_type": "code",
   "execution_count": null,
   "id": "03441331",
   "metadata": {},
   "outputs": [],
   "source": [
    "raw_bm25 = pt.terrier.Retriever(raw_index, wmodel=\"BM25\", controls={\"qe\": \"off\", \"proximity\": \"on\"}, metadata=[\"docno\", \"text\"]) # type: ignore\n",
    "bm25 = pt.terrier.Retriever(index, wmodel=\"BM25\", controls={\"qe\": \"off\", \"proximity\": \"on\"}, metadata=[\"docno\", \"text\"]) # type: ignore"
   ]
  },
  {
   "cell_type": "code",
   "execution_count": 70,
   "id": "8993738b",
   "metadata": {},
   "outputs": [
    {
     "data": {
      "application/vnd.microsoft.datawrangler.viewer.v0+json": {
       "columns": [
        {
         "name": "index",
         "rawType": "int64",
         "type": "integer"
        },
        {
         "name": "qid",
         "rawType": "object",
         "type": "string"
        },
        {
         "name": "docid",
         "rawType": "int64",
         "type": "integer"
        },
        {
         "name": "docno",
         "rawType": "object",
         "type": "string"
        },
        {
         "name": "rank",
         "rawType": "int64",
         "type": "integer"
        },
        {
         "name": "score",
         "rawType": "float64",
         "type": "float"
        },
        {
         "name": "query",
         "rawType": "object",
         "type": "string"
        }
       ],
       "ref": "499a857f-b174-4b86-b357-35e12c00f24b",
       "rows": [
        [
         "0",
         "1",
         "5139",
         "5140",
         "0",
         "19.417915848722952",
         "electron analogu comput"
        ],
        [
         "1",
         "1",
         "139",
         "140",
         "1",
         "18.771077713879947",
         "electron analogu comput"
        ],
        [
         "2",
         "1",
         "2932",
         "2933",
         "2",
         "18.601610070786244",
         "electron analogu comput"
        ],
        [
         "3",
         "1",
         "3138",
         "3139",
         "3",
         "18.460048820916775",
         "electron analogu comput"
        ],
        [
         "4",
         "1",
         "5131",
         "5132",
         "4",
         "18.460048820916775",
         "electron analogu comput"
        ],
        [
         "5",
         "1",
         "5831",
         "5832",
         "5",
         "18.449073315259074",
         "electron analogu comput"
        ],
        [
         "6",
         "1",
         "5016",
         "5017",
         "6",
         "17.918591619742333",
         "electron analogu comput"
        ],
        [
         "7",
         "1",
         "1156",
         "1157",
         "7",
         "17.902099007734716",
         "electron analogu comput"
        ],
        [
         "8",
         "1",
         "3137",
         "3138",
         "8",
         "17.18823060726602",
         "electron analogu comput"
        ],
        [
         "9",
         "1",
         "5021",
         "5022",
         "9",
         "17.18823060726602",
         "electron analogu comput"
        ]
       ],
       "shape": {
        "columns": 6,
        "rows": 10
       }
      },
      "text/html": [
       "<div>\n",
       "<style scoped>\n",
       "    .dataframe tbody tr th:only-of-type {\n",
       "        vertical-align: middle;\n",
       "    }\n",
       "\n",
       "    .dataframe tbody tr th {\n",
       "        vertical-align: top;\n",
       "    }\n",
       "\n",
       "    .dataframe thead th {\n",
       "        text-align: right;\n",
       "    }\n",
       "</style>\n",
       "<table border=\"1\" class=\"dataframe\">\n",
       "  <thead>\n",
       "    <tr style=\"text-align: right;\">\n",
       "      <th></th>\n",
       "      <th>qid</th>\n",
       "      <th>docid</th>\n",
       "      <th>docno</th>\n",
       "      <th>rank</th>\n",
       "      <th>score</th>\n",
       "      <th>query</th>\n",
       "    </tr>\n",
       "  </thead>\n",
       "  <tbody>\n",
       "    <tr>\n",
       "      <th>0</th>\n",
       "      <td>1</td>\n",
       "      <td>5139</td>\n",
       "      <td>5140</td>\n",
       "      <td>0</td>\n",
       "      <td>19.417916</td>\n",
       "      <td>electron analogu comput</td>\n",
       "    </tr>\n",
       "    <tr>\n",
       "      <th>1</th>\n",
       "      <td>1</td>\n",
       "      <td>139</td>\n",
       "      <td>140</td>\n",
       "      <td>1</td>\n",
       "      <td>18.771078</td>\n",
       "      <td>electron analogu comput</td>\n",
       "    </tr>\n",
       "    <tr>\n",
       "      <th>2</th>\n",
       "      <td>1</td>\n",
       "      <td>2932</td>\n",
       "      <td>2933</td>\n",
       "      <td>2</td>\n",
       "      <td>18.601610</td>\n",
       "      <td>electron analogu comput</td>\n",
       "    </tr>\n",
       "    <tr>\n",
       "      <th>3</th>\n",
       "      <td>1</td>\n",
       "      <td>3138</td>\n",
       "      <td>3139</td>\n",
       "      <td>3</td>\n",
       "      <td>18.460049</td>\n",
       "      <td>electron analogu comput</td>\n",
       "    </tr>\n",
       "    <tr>\n",
       "      <th>4</th>\n",
       "      <td>1</td>\n",
       "      <td>5131</td>\n",
       "      <td>5132</td>\n",
       "      <td>4</td>\n",
       "      <td>18.460049</td>\n",
       "      <td>electron analogu comput</td>\n",
       "    </tr>\n",
       "    <tr>\n",
       "      <th>5</th>\n",
       "      <td>1</td>\n",
       "      <td>5831</td>\n",
       "      <td>5832</td>\n",
       "      <td>5</td>\n",
       "      <td>18.449073</td>\n",
       "      <td>electron analogu comput</td>\n",
       "    </tr>\n",
       "    <tr>\n",
       "      <th>6</th>\n",
       "      <td>1</td>\n",
       "      <td>5016</td>\n",
       "      <td>5017</td>\n",
       "      <td>6</td>\n",
       "      <td>17.918592</td>\n",
       "      <td>electron analogu comput</td>\n",
       "    </tr>\n",
       "    <tr>\n",
       "      <th>7</th>\n",
       "      <td>1</td>\n",
       "      <td>1156</td>\n",
       "      <td>1157</td>\n",
       "      <td>7</td>\n",
       "      <td>17.902099</td>\n",
       "      <td>electron analogu comput</td>\n",
       "    </tr>\n",
       "    <tr>\n",
       "      <th>8</th>\n",
       "      <td>1</td>\n",
       "      <td>3137</td>\n",
       "      <td>3138</td>\n",
       "      <td>8</td>\n",
       "      <td>17.188231</td>\n",
       "      <td>electron analogu comput</td>\n",
       "    </tr>\n",
       "    <tr>\n",
       "      <th>9</th>\n",
       "      <td>1</td>\n",
       "      <td>5021</td>\n",
       "      <td>5022</td>\n",
       "      <td>9</td>\n",
       "      <td>17.188231</td>\n",
       "      <td>electron analogu comput</td>\n",
       "    </tr>\n",
       "  </tbody>\n",
       "</table>\n",
       "</div>"
      ],
      "text/plain": [
       "  qid  docid docno  rank      score                    query\n",
       "0   1   5139  5140     0  19.417916  electron analogu comput\n",
       "1   1    139   140     1  18.771078  electron analogu comput\n",
       "2   1   2932  2933     2  18.601610  electron analogu comput\n",
       "3   1   3138  3139     3  18.460049  electron analogu comput\n",
       "4   1   5131  5132     4  18.460049  electron analogu comput\n",
       "5   1   5831  5832     5  18.449073  electron analogu comput\n",
       "6   1   5016  5017     6  17.918592  electron analogu comput\n",
       "7   1   1156  1157     7  17.902099  electron analogu comput\n",
       "8   1   3137  3138     8  17.188231  electron analogu comput\n",
       "9   1   5021  5022     9  17.188231  electron analogu comput"
      ]
     },
     "execution_count": 70,
     "metadata": {},
     "output_type": "execute_result"
    }
   ],
   "source": [
    "x = bm25.search(query=preprocess(\"electronic analogue computer\")) # type: ignore\n",
    "x[:10]"
   ]
  },
  {
   "cell_type": "code",
   "execution_count": 362,
   "id": "e8f7e104",
   "metadata": {},
   "outputs": [],
   "source": [
    "# PRF\n",
    "bo1 = pt.rewrite.Bo1QueryExpansion(index_like=index, fb_terms=20, fb_docs=3)\n",
    "kl = pt.rewrite.KLQueryExpansion(index_like=index, fb_terms=20, fb_docs=3)\n",
    "rm3 = pt.rewrite.RM3(index_like=index, fb_terms=20, fb_docs=3) # type: ignore\n",
    "\n",
    "pipeline = bm25 >> bo1 >> bm25\n",
    "pipeline_2 = bm25 >> kl >> bm25\n",
    "pipeline_3 = bm25 >> rm3 >> bm25"
   ]
  },
  {
   "cell_type": "code",
   "execution_count": 257,
   "id": "cb664205",
   "metadata": {},
   "outputs": [
    {
     "name": "stderr",
     "output_type": "stream",
     "text": [
      "vaswani documents: 100%|██████████| 11429/11429 [00:00<00:00, 168851.25it/s]\n"
     ]
    }
   ],
   "source": [
    "docno_text_dict = {d['docno']: d['text'] for d in dataset.get_corpus_iter()}"
   ]
  },
  {
   "cell_type": "code",
   "execution_count": null,
   "id": "8c8e674e",
   "metadata": {},
   "outputs": [
    {
     "name": "stderr",
     "output_type": "stream",
     "text": [
      "/var/folders/w2/yxd1p5g51r9__bqf6188l1y00000gn/T/ipykernel_56690/3303304857.py:8: DeprecationWarning: Call to deprecated function (or staticmethod) started. (use pt.java.started() instead) -- Deprecated since version 0.11.0.\n",
      "  if not pt.started():\n"
     ]
    }
   ],
   "source": [
    "from sentence_transformers import CrossEncoder\n",
    "import pandas as pd\n",
    "import numpy as np\n",
    "from sklearn.preprocessing import MinMaxScaler\n",
    "scaler = MinMaxScaler()\n",
    "\n",
    "class CrossEncoderReranker(pt.Transformer):\n",
    "    def __init__(self, model_name='cross-encoder/ms-marco-MiniLM-L-6-v2', top_k=50, text_field='text'):\n",
    "        self.model = CrossEncoder(model_name)\n",
    "        self.top_k = top_k\n",
    "        self.text_field = text_field\n",
    "    \n",
    "    def transform(self, res):\n",
    "        if self.text_field not in res.columns:\n",
    "            raise ValueError(f\"Document text field '{self.text_field}' not found in results\")\n",
    "        \n",
    "        reranked_dfs = []\n",
    "        for qid, group in res.groupby('qid'):\n",
    "            query = group['query'].iloc[0]\n",
    "            doc_nos = group[\"docno\"].tolist()\n",
    "            docs = [docno_text_dict.get(doc_no, \"\") for doc_no in doc_nos]\n",
    "            group = group.copy()\n",
    "            group[self.text_field] = docs\n",
    "\n",
    "            top_k = min(self.top_k, len(docs))\n",
    "            limited_group = group.head(top_k)\n",
    "            pairs = [(query, doc) for doc in limited_group[self.text_field]]\n",
    "\n",
    "            scores = self.model.predict(pairs)\n",
    "\n",
    "            full_scores = np.zeros(len(group))\n",
    "            full_scores[:len(scores)] = scores\n",
    "\n",
    "            group['crossencoder_score'] = full_scores \n",
    "            group['score_norm'] = scaler.fit_transform(group[['score']])\n",
    "            group['crossencoder_score_norm'] = scaler.fit_transform(full_scores.reshape(-1,1))\n",
    "\n",
    "            group['combined_score'] = 0.4 * group['crossencoder_score_norm'] + 0.6 * group['score_norm']\n",
    "\n",
    "            reranked = group.sort_values(['combined_score', 'rank'], ascending=[False, True])\n",
    "            reranked.reset_index(drop=True, inplace=True)\n",
    "            reranked['old_rank'] = reranked['rank']\n",
    "            reranked['rank'] = reranked.index\n",
    "\n",
    "            reranked_dfs.append(reranked)\n",
    "\n",
    "        final = pd.concat(reranked_dfs) if reranked_dfs else pd.DataFrame()\n",
    "        return final\n",
    "    \n",
    "ce_pipeline = bm25 >> CrossEncoderReranker(text_field=\"text\", top_k=100)\n"
   ]
  },
  {
   "cell_type": "code",
   "execution_count": null,
   "id": "d0aa8e64",
   "metadata": {},
   "outputs": [],
   "source": [
    "from collections import defaultdict\n",
    "\n",
    "def precision_at_k(results, qrels, k=10):\n",
    "    qrels_dict = qrels.groupby('qid')['docno'].apply(set).to_dict()\n",
    "    precisions = []\n",
    "\n",
    "    for qid, group in results.groupby('qid'):\n",
    "        relevant = qrels_dict.get(qid, set())\n",
    "        top_k_docs = group.head(k)['docno'].tolist()\n",
    "        num_relevant = sum([1 for docno in top_k_docs if docno in relevant])\n",
    "        precisions.append(num_relevant / k)\n",
    "    \n",
    "    return sum(precisions) / len(precisions)\n",
    "\n",
    "\n",
    "def recall_at_k(results, qrels, k=10):\n",
    "    qrels_dict = qrels.groupby('qid')['docno'].apply(set).to_dict()\n",
    "    recalls = []\n",
    "\n",
    "    for qid, group in results.groupby('qid'):\n",
    "        relevant = qrels_dict.get(qid, set())\n",
    "        if not relevant:\n",
    "            continue\n",
    "        top_k_docs = group.head(k)['docno'].tolist()\n",
    "        num_relevant = sum([1 for docno in top_k_docs if docno in relevant])\n",
    "        recalls.append(num_relevant / len(relevant))\n",
    "    \n",
    "    return sum(recalls) / len(recalls)\n",
    "\n",
    "\n",
    "def mean_average_precision(results, qrels):\n",
    "    qrels_dict = qrels.groupby('qid')['docno'].apply(set).to_dict()\n",
    "    average_precisions = []\n",
    "\n",
    "    for qid, group in results.groupby('qid'):\n",
    "        relevant = qrels_dict.get(qid, set())\n",
    "        if not relevant:\n",
    "            continue\n",
    "\n",
    "        hits = 0\n",
    "        precisions = []\n",
    "\n",
    "        for i, docno in enumerate(group['docno'].tolist(), start=1):\n",
    "            if docno in relevant:\n",
    "                hits += 1\n",
    "                precisions.append(hits / i)\n",
    "\n",
    "        if precisions:\n",
    "            average_precisions.append(sum(precisions) / len(relevant))\n",
    "        else:\n",
    "            average_precisions.append(0.0)\n",
    "\n",
    "    return sum(average_precisions) / len(average_precisions)\n"
   ]
  },
  {
   "cell_type": "code",
   "execution_count": 355,
   "id": "563a639e",
   "metadata": {},
   "outputs": [],
   "source": [
    "def calculate_metrics(model, name):\n",
    "    results_df = model.transform(dataset.get_topics())\n",
    "\n",
    "    precision = precision_at_k(results_df, dataset.get_qrels(), k=5)\n",
    "    precision_10 = precision_at_k(results_df, dataset.get_qrels(), k=10)\n",
    "    recall = recall_at_k(results_df, dataset.get_qrels(), k=5)\n",
    "    recall_10 = recall_at_k(results_df, dataset.get_qrels(), k=10)\n",
    "    map_score = mean_average_precision(results_df, dataset.get_qrels())\n",
    "    \n",
    "    results = [name, precision, precision_10, recall, recall_10, map_score]\n",
    "    return results"
   ]
  },
  {
   "cell_type": "code",
   "execution_count": 369,
   "id": "60180fd5",
   "metadata": {},
   "outputs": [],
   "source": [
    "raw_bm25_results = calculate_metrics(raw_bm25, \"Raw BM25\")"
   ]
  },
  {
   "cell_type": "code",
   "execution_count": 370,
   "id": "808648e2",
   "metadata": {},
   "outputs": [],
   "source": [
    "bm25_results = calculate_metrics(bm25, \"BM25\")\n"
   ]
  },
  {
   "cell_type": "code",
   "execution_count": 363,
   "id": "73492cd5",
   "metadata": {},
   "outputs": [],
   "source": [
    "pipeline_results = calculate_metrics(pipeline, \"BM25 + Bo1\")"
   ]
  },
  {
   "cell_type": "code",
   "execution_count": 364,
   "id": "5255aa79",
   "metadata": {},
   "outputs": [],
   "source": [
    "pipeline_2_results = calculate_metrics(pipeline_2, \"BM25 + KL\")"
   ]
  },
  {
   "cell_type": "code",
   "execution_count": 365,
   "id": "6b76a64c",
   "metadata": {},
   "outputs": [],
   "source": [
    "pipeline_3_results = calculate_metrics(pipeline_3, \"BM25 + RM3\")"
   ]
  },
  {
   "cell_type": "code",
   "execution_count": 366,
   "id": "ab0d8a04",
   "metadata": {},
   "outputs": [],
   "source": [
    "ce_bert_results = calculate_metrics(ce_pipeline, \"BM25 + Cross Encoder\")"
   ]
  },
  {
   "cell_type": "code",
   "execution_count": 371,
   "id": "6169784f",
   "metadata": {},
   "outputs": [
    {
     "data": {
      "application/vnd.microsoft.datawrangler.viewer.v0+json": {
       "columns": [
        {
         "name": "index",
         "rawType": "int64",
         "type": "integer"
        },
        {
         "name": "Model",
         "rawType": "object",
         "type": "string"
        },
        {
         "name": "Precision@5",
         "rawType": "float64",
         "type": "float"
        },
        {
         "name": "Precision@10",
         "rawType": "float64",
         "type": "float"
        },
        {
         "name": "Recall@5",
         "rawType": "float64",
         "type": "float"
        },
        {
         "name": "Recall@10",
         "rawType": "float64",
         "type": "float"
        },
        {
         "name": "MAP",
         "rawType": "float64",
         "type": "float"
        }
       ],
       "ref": "52b44ca4-7373-417c-bce1-4e669b5612cd",
       "rows": [
        [
         "0",
         "Raw BM25",
         "0.16136363636363632",
         "0.14204545454545453",
         "0.05781675285681025",
         "0.08578086864353739",
         "0.10472259698392007"
        ],
        [
         "1",
         "BM25",
         "0.4365591397849463",
         "0.3440860215053765",
         "0.14633304652448442",
         "0.20607397653034515",
         "0.2745062183995508"
        ],
        [
         "2",
         "BM25 + Bo1",
         "0.438709677419355",
         "0.3526881720430108",
         "0.14503701213483006",
         "0.20510099268595586",
         "0.2816361700319638"
        ],
        [
         "3",
         "BM25 + KL",
         "0.44301075268817225",
         "0.35053763440860214",
         "0.14558876772690824",
         "0.2013953179277227",
         "0.2807403207456576"
        ],
        [
         "4",
         "BM25 + RM3",
         "0.4559139784946236",
         "0.36559139784946254",
         "0.14948712277831605",
         "0.21092645529088563",
         "0.2879307453184802"
        ],
        [
         "5",
         "BM25 + Cross Encoder",
         "0.4967741935483872",
         "0.39677419354838717",
         "0.17148143667992202",
         "0.230770994671394",
         "0.2937458361590347"
        ]
       ],
       "shape": {
        "columns": 6,
        "rows": 6
       }
      },
      "text/html": [
       "<div>\n",
       "<style scoped>\n",
       "    .dataframe tbody tr th:only-of-type {\n",
       "        vertical-align: middle;\n",
       "    }\n",
       "\n",
       "    .dataframe tbody tr th {\n",
       "        vertical-align: top;\n",
       "    }\n",
       "\n",
       "    .dataframe thead th {\n",
       "        text-align: right;\n",
       "    }\n",
       "</style>\n",
       "<table border=\"1\" class=\"dataframe\">\n",
       "  <thead>\n",
       "    <tr style=\"text-align: right;\">\n",
       "      <th></th>\n",
       "      <th>Model</th>\n",
       "      <th>Precision@5</th>\n",
       "      <th>Precision@10</th>\n",
       "      <th>Recall@5</th>\n",
       "      <th>Recall@10</th>\n",
       "      <th>MAP</th>\n",
       "    </tr>\n",
       "  </thead>\n",
       "  <tbody>\n",
       "    <tr>\n",
       "      <th>0</th>\n",
       "      <td>Raw BM25</td>\n",
       "      <td>0.161364</td>\n",
       "      <td>0.142045</td>\n",
       "      <td>0.057817</td>\n",
       "      <td>0.085781</td>\n",
       "      <td>0.104723</td>\n",
       "    </tr>\n",
       "    <tr>\n",
       "      <th>1</th>\n",
       "      <td>BM25</td>\n",
       "      <td>0.436559</td>\n",
       "      <td>0.344086</td>\n",
       "      <td>0.146333</td>\n",
       "      <td>0.206074</td>\n",
       "      <td>0.274506</td>\n",
       "    </tr>\n",
       "    <tr>\n",
       "      <th>2</th>\n",
       "      <td>BM25 + Bo1</td>\n",
       "      <td>0.438710</td>\n",
       "      <td>0.352688</td>\n",
       "      <td>0.145037</td>\n",
       "      <td>0.205101</td>\n",
       "      <td>0.281636</td>\n",
       "    </tr>\n",
       "    <tr>\n",
       "      <th>3</th>\n",
       "      <td>BM25 + KL</td>\n",
       "      <td>0.443011</td>\n",
       "      <td>0.350538</td>\n",
       "      <td>0.145589</td>\n",
       "      <td>0.201395</td>\n",
       "      <td>0.280740</td>\n",
       "    </tr>\n",
       "    <tr>\n",
       "      <th>4</th>\n",
       "      <td>BM25 + RM3</td>\n",
       "      <td>0.455914</td>\n",
       "      <td>0.365591</td>\n",
       "      <td>0.149487</td>\n",
       "      <td>0.210926</td>\n",
       "      <td>0.287931</td>\n",
       "    </tr>\n",
       "    <tr>\n",
       "      <th>5</th>\n",
       "      <td>BM25 + Cross Encoder</td>\n",
       "      <td>0.496774</td>\n",
       "      <td>0.396774</td>\n",
       "      <td>0.171481</td>\n",
       "      <td>0.230771</td>\n",
       "      <td>0.293746</td>\n",
       "    </tr>\n",
       "  </tbody>\n",
       "</table>\n",
       "</div>"
      ],
      "text/plain": [
       "                  Model  Precision@5  ...  Recall@10       MAP\n",
       "0              Raw BM25     0.161364  ...   0.085781  0.104723\n",
       "1                  BM25     0.436559  ...   0.206074  0.274506\n",
       "2            BM25 + Bo1     0.438710  ...   0.205101  0.281636\n",
       "3             BM25 + KL     0.443011  ...   0.201395  0.280740\n",
       "4            BM25 + RM3     0.455914  ...   0.210926  0.287931\n",
       "5  BM25 + Cross Encoder     0.496774  ...   0.230771  0.293746\n",
       "\n",
       "[6 rows x 6 columns]"
      ]
     },
     "execution_count": 371,
     "metadata": {},
     "output_type": "execute_result"
    }
   ],
   "source": [
    "table = [[\"Model\", \"Precision@5\", \"Precision@10\",  \"Recall@5\", \"Recall@10\", \"MAP\"], raw_bm25_results, bm25_results,\n",
    "        pipeline_results, pipeline_2_results, pipeline_3_results, ce_bert_results]\n",
    "df = pd.DataFrame(table[1:], columns=table[0])\n",
    "df"
   ]
  }
 ],
 "metadata": {
  "kernelspec": {
   "display_name": "limon_env",
   "language": "python",
   "name": "python3"
  },
  "language_info": {
   "codemirror_mode": {
    "name": "ipython",
    "version": 3
   },
   "file_extension": ".py",
   "mimetype": "text/x-python",
   "name": "python",
   "nbconvert_exporter": "python",
   "pygments_lexer": "ipython3",
   "version": "3.10.0"
  }
 },
 "nbformat": 4,
 "nbformat_minor": 5
}
