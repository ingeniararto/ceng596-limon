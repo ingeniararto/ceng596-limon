{
 "cells": [
  {
   "cell_type": "markdown",
   "id": "c39f936e",
   "metadata": {},
   "source": [
    "# Dataset Info"
   ]
  },
  {
   "cell_type": "markdown",
   "id": "a5e63d4a",
   "metadata": {},
   "source": [
    "## Metadata for vaswani dataset\n",
    "\n",
    "```json\n",
    "{\n",
    "  \"docs\": {\n",
    "    \"count\": 11429,\n",
    "    \"fields\": {\n",
    "      \"doc_id\": {\n",
    "        \"max_len\": 5,\n",
    "        \"common_prefix\": \"\"\n",
    "      }\n",
    "    }\n",
    "  },\n",
    "  \"queries\": {\n",
    "    \"count\": 93\n",
    "  },\n",
    "  \"qrels\": {\n",
    "    \"count\": 2083,\n",
    "    \"fields\": {\n",
    "      \"relevance\": {\n",
    "        \"counts_by_value\": {\n",
    "          \"1\": 2083\n",
    "        }\n",
    "      }\n",
    "    }\n",
    "  }\n",
    "}\n",
    "```\n"
   ]
  },
  {
   "cell_type": "markdown",
   "id": "3fc855d6",
   "metadata": {},
   "source": [
    "# Implementation"
   ]
  },
  {
   "cell_type": "code",
   "execution_count": 49,
   "id": "aa9a2ce9",
   "metadata": {
    "ExecuteTime": {
     "end_time": "2025-06-12T20:07:10.066852Z",
     "start_time": "2025-06-12T20:07:10.030099Z"
    }
   },
   "outputs": [],
   "source": [
    "import pyterrier as pt\n",
    "\n",
    "if not pt.java.started():\n",
    "    pt.init()\n"
   ]
  },
  {
   "cell_type": "code",
   "execution_count": 50,
   "id": "3f96ade0",
   "metadata": {
    "ExecuteTime": {
     "end_time": "2025-06-12T20:07:10.067088Z",
     "start_time": "2025-06-12T20:07:10.033566Z"
    }
   },
   "outputs": [],
   "source": [
    "dataset = pt.get_dataset('irds:vaswani')"
   ]
  },
  {
   "cell_type": "code",
   "execution_count": 51,
   "id": "9fc31bc3",
   "metadata": {
    "ExecuteTime": {
     "end_time": "2025-06-12T20:07:10.067689Z",
     "start_time": "2025-06-12T20:07:10.037702Z"
    }
   },
   "outputs": [],
   "source": [
    "import os\n",
    "\n",
    "raw_index_path = './indices/vaswani_positional_raw'\n",
    "index_path = './indices/vaswani_positional'\n",
    "\n",
    "def create_index(index_path, stemmer=None, stop_words=None):\n",
    "    indexer = pt.IterDictIndexer(\n",
    "        index_path=index_path, \n",
    "        blocks=True, # to save positional information\n",
    "        overwrite=True, \n",
    "        text_attrs=['text'], \n",
    "        meta_reverse=['docno'], \n",
    "        meta={'docno': 5, 'text': 4096},\n",
    "        verbose=1,\n",
    "        stemmer=stemmer,\n",
    "        stopwords=stop_words,\n",
    "        tokeniser=pt.TerrierTokeniser.english,\n",
    "        type=pt.IndexingType.CLASSIC\n",
    "    )\n",
    "\n",
    "    index_ref = indexer.index(dataset.get_corpus_iter()) # type: ignore\n",
    "    return pt.IndexFactory.of(index_ref) # type: ignore\n",
    "\n",
    "# if indices are already created, do not create again\n",
    "if not os.path.exists(os.path.join(raw_index_path, \"data.properties\")):\n",
    "    raw_index = create_index(\n",
    "        index_path=raw_index_path\n",
    "    )\n",
    "else:\n",
    "    raw_index = pt.IndexFactory.of(raw_index_path)\n",
    "\n",
    "if not os.path.exists(os.path.join(index_path, \"data.properties\")):\n",
    "    index = create_index(\n",
    "        index_path=index_path,\n",
    "        stemmer=pt.TerrierStemmer.porter,\n",
    "        stop_words=pt.TerrierStopwords.terrier\n",
    "    )\n",
    "else:\n",
    "    index = pt.IndexFactory.of(index_path)"
   ]
  },
  {
   "cell_type": "code",
   "execution_count": 52,
   "id": "009c5551",
   "metadata": {
    "ExecuteTime": {
     "end_time": "2025-06-12T20:07:10.085893Z",
     "start_time": "2025-06-12T20:07:10.046777Z"
    }
   },
   "outputs": [
    {
     "name": "stdout",
     "output_type": "stream",
     "text": [
      "Raw index statistics:\n",
      "Number of documents: 11429\n",
      "Number of terms: 12188\n",
      "Number of postings: 351589\n",
      "Number of fields: 0\n",
      "Number of tokens: 479162\n",
      "Field names: []\n",
      "Positions:   true\n",
      "\n",
      "Preprocessed index statistics:\n",
      "Number of documents: 11429\n",
      "Number of terms: 7756\n",
      "Number of postings: 224573\n",
      "Number of fields: 0\n",
      "Number of tokens: 271581\n",
      "Field names: []\n",
      "Positions:   true\n"
     ]
    }
   ],
   "source": [
    "print(\"Raw index statistics:\")\n",
    "print(raw_index.getCollectionStatistics().toString())\n",
    "print(\"Preprocessed index statistics:\")\n",
    "print(index.getCollectionStatistics().toString())"
   ]
  },
  {
   "cell_type": "code",
   "execution_count": 53,
   "id": "03441331",
   "metadata": {
    "ExecuteTime": {
     "end_time": "2025-06-12T20:07:10.086044Z",
     "start_time": "2025-06-12T20:07:10.050999Z"
    }
   },
   "outputs": [],
   "source": [
    "raw_bm25 = pt.terrier.Retriever(raw_index, wmodel=\"BM25\", controls={\"qe\": \"off\", \"proximity\": \"on\"}, metadata=[\"docno\", \"text\"]) # type: ignore\n",
    "bm25 = pt.terrier.Retriever(index, wmodel=\"BM25\", controls={\"qe\": \"off\", \"proximity\": \"on\"}, metadata=[\"docno\", \"text\"]) # type: ignore"
   ]
  },
  {
   "cell_type": "code",
   "execution_count": 54,
   "id": "8993738b",
   "metadata": {
    "ExecuteTime": {
     "end_time": "2025-06-12T20:07:10.135249Z",
     "start_time": "2025-06-12T20:07:10.056081Z"
    }
   },
   "outputs": [
    {
     "data": {
      "text/plain": "  qid  docid docno                                               text  rank  \\\n0   1   5139  5140   an introduction to electronic analogue computers     0   \n1   1    139   140  the simulation of equations with analogue comp...     1   \n2   1   2932  2933  electronic computers  the application of analo...     2   \n3   1   3138  3139  an error analysis of electronic analogue compu...     3   \n4   1   5131  5132  high speed electronic analogue computing techn...     4   \n5   1   5831  5832  electronic analogue computing  a survey of mod...     5   \n6   1   5016  5017  principles and application of electronic analo...     6   \n7   1   1156  1157  electronic computers  annual review of interna...     7   \n8   1   3137  3138  a multipurpose electronic switch for analogue ...     8   \n9   1   5021  5022  the hyperbolic field tube an electron beam tub...     9   \n\n       score                         query  \n0  19.413575  electronic analogue computer  \n1  18.968913  electronic analogue computer  \n2  18.590034  electronic analogue computer  \n3  18.450685  electronic analogue computer  \n4  18.450685  electronic analogue computer  \n5  18.430940  electronic analogue computer  \n6  18.101647  electronic analogue computer  \n7  17.887571  electronic analogue computer  \n8  17.173041  electronic analogue computer  \n9  17.173041  electronic analogue computer  ",
      "text/html": "<div>\n<style scoped>\n    .dataframe tbody tr th:only-of-type {\n        vertical-align: middle;\n    }\n\n    .dataframe tbody tr th {\n        vertical-align: top;\n    }\n\n    .dataframe thead th {\n        text-align: right;\n    }\n</style>\n<table border=\"1\" class=\"dataframe\">\n  <thead>\n    <tr style=\"text-align: right;\">\n      <th></th>\n      <th>qid</th>\n      <th>docid</th>\n      <th>docno</th>\n      <th>text</th>\n      <th>rank</th>\n      <th>score</th>\n      <th>query</th>\n    </tr>\n  </thead>\n  <tbody>\n    <tr>\n      <th>0</th>\n      <td>1</td>\n      <td>5139</td>\n      <td>5140</td>\n      <td>an introduction to electronic analogue computers</td>\n      <td>0</td>\n      <td>19.413575</td>\n      <td>electronic analogue computer</td>\n    </tr>\n    <tr>\n      <th>1</th>\n      <td>1</td>\n      <td>139</td>\n      <td>140</td>\n      <td>the simulation of equations with analogue comp...</td>\n      <td>1</td>\n      <td>18.968913</td>\n      <td>electronic analogue computer</td>\n    </tr>\n    <tr>\n      <th>2</th>\n      <td>1</td>\n      <td>2932</td>\n      <td>2933</td>\n      <td>electronic computers  the application of analo...</td>\n      <td>2</td>\n      <td>18.590034</td>\n      <td>electronic analogue computer</td>\n    </tr>\n    <tr>\n      <th>3</th>\n      <td>1</td>\n      <td>3138</td>\n      <td>3139</td>\n      <td>an error analysis of electronic analogue compu...</td>\n      <td>3</td>\n      <td>18.450685</td>\n      <td>electronic analogue computer</td>\n    </tr>\n    <tr>\n      <th>4</th>\n      <td>1</td>\n      <td>5131</td>\n      <td>5132</td>\n      <td>high speed electronic analogue computing techn...</td>\n      <td>4</td>\n      <td>18.450685</td>\n      <td>electronic analogue computer</td>\n    </tr>\n    <tr>\n      <th>5</th>\n      <td>1</td>\n      <td>5831</td>\n      <td>5832</td>\n      <td>electronic analogue computing  a survey of mod...</td>\n      <td>5</td>\n      <td>18.430940</td>\n      <td>electronic analogue computer</td>\n    </tr>\n    <tr>\n      <th>6</th>\n      <td>1</td>\n      <td>5016</td>\n      <td>5017</td>\n      <td>principles and application of electronic analo...</td>\n      <td>6</td>\n      <td>18.101647</td>\n      <td>electronic analogue computer</td>\n    </tr>\n    <tr>\n      <th>7</th>\n      <td>1</td>\n      <td>1156</td>\n      <td>1157</td>\n      <td>electronic computers  annual review of interna...</td>\n      <td>7</td>\n      <td>17.887571</td>\n      <td>electronic analogue computer</td>\n    </tr>\n    <tr>\n      <th>8</th>\n      <td>1</td>\n      <td>3137</td>\n      <td>3138</td>\n      <td>a multipurpose electronic switch for analogue ...</td>\n      <td>8</td>\n      <td>17.173041</td>\n      <td>electronic analogue computer</td>\n    </tr>\n    <tr>\n      <th>9</th>\n      <td>1</td>\n      <td>5021</td>\n      <td>5022</td>\n      <td>the hyperbolic field tube an electron beam tub...</td>\n      <td>9</td>\n      <td>17.173041</td>\n      <td>electronic analogue computer</td>\n    </tr>\n  </tbody>\n</table>\n</div>"
     },
     "execution_count": 54,
     "metadata": {},
     "output_type": "execute_result"
    }
   ],
   "source": [
    "x = bm25.search(query=\"electronic analogue computer\") # type: ignore\n",
    "x[:10]"
   ]
  },
  {
   "cell_type": "code",
   "execution_count": 55,
   "id": "e8f7e104",
   "metadata": {
    "ExecuteTime": {
     "end_time": "2025-06-12T20:07:10.145015Z",
     "start_time": "2025-06-12T20:07:10.132746Z"
    }
   },
   "outputs": [],
   "source": [
    "# PRF\n",
    "bo1 = pt.rewrite.Bo1QueryExpansion(index_like=index, fb_terms=20, fb_docs=3)\n",
    "kl = pt.rewrite.KLQueryExpansion(index_like=index, fb_terms=20, fb_docs=3)\n",
    "rm3 = pt.rewrite.RM3(index_like=index, fb_terms=20, fb_docs=3) # type: ignore\n",
    "\n",
    "pipeline = bm25 >> bo1 >> bm25\n",
    "pipeline_2 = bm25 >> kl >> bm25\n",
    "pipeline_3 = bm25 >> rm3 >> bm25"
   ]
  },
  {
   "cell_type": "code",
   "execution_count": 56,
   "id": "cb664205",
   "metadata": {
    "ExecuteTime": {
     "end_time": "2025-06-12T20:07:10.257741Z",
     "start_time": "2025-06-12T20:07:10.139115Z"
    }
   },
   "outputs": [
    {
     "name": "stderr",
     "output_type": "stream",
     "text": [
      "vaswani documents: 100%|██████████| 11429/11429 [00:00<00:00, 557481.28it/s]\n"
     ]
    }
   ],
   "source": [
    "docno_text_dict = {d['docno']: d['text'] for d in dataset.get_corpus_iter()}"
   ]
  },
  {
   "cell_type": "code",
   "execution_count": 57,
   "id": "8c8e674e",
   "metadata": {
    "ExecuteTime": {
     "end_time": "2025-06-12T20:07:12.398629Z",
     "start_time": "2025-06-12T20:07:10.170989Z"
    }
   },
   "outputs": [],
   "source": [
    "from sentence_transformers import CrossEncoder\n",
    "import pandas as pd\n",
    "import numpy as np\n",
    "from sklearn.preprocessing import MinMaxScaler\n",
    "scaler = MinMaxScaler()\n",
    "\n",
    "class CrossEncoderReranker(pt.Transformer):\n",
    "    def __init__(self, model_name='cross-encoder/ms-marco-MiniLM-L-6-v2', top_k=50, text_field='text'):\n",
    "        self.model = CrossEncoder(model_name)\n",
    "        self.top_k = top_k\n",
    "        self.text_field = text_field\n",
    "    \n",
    "    def transform(self, res):\n",
    "        if self.text_field not in res.columns:\n",
    "            raise ValueError(f\"Document text field '{self.text_field}' not found in results\")\n",
    "        \n",
    "        reranked_dfs = []\n",
    "        for qid, group in res.groupby('qid'):\n",
    "            query = group['query'].iloc[0]\n",
    "            doc_nos = group[\"docno\"].tolist()\n",
    "            docs = [docno_text_dict.get(doc_no, \"\") for doc_no in doc_nos]\n",
    "            group = group.copy()\n",
    "            group[self.text_field] = docs\n",
    "\n",
    "            top_k = min(self.top_k, len(docs))\n",
    "            limited_group = group.head(top_k)\n",
    "            pairs = [(query, doc) for doc in limited_group[self.text_field]]\n",
    "\n",
    "            scores = self.model.predict(pairs)\n",
    "\n",
    "            full_scores = np.zeros(len(group))\n",
    "            full_scores[:len(scores)] = scores\n",
    "\n",
    "            group['crossencoder_score'] = full_scores \n",
    "            group['score_norm'] = scaler.fit_transform(group[['score']])\n",
    "            group['crossencoder_score_norm'] = scaler.fit_transform(full_scores.reshape(-1,1))\n",
    "\n",
    "            group['combined_score'] = 0.4 * group['crossencoder_score_norm'] + 0.6 * group['score_norm']\n",
    "\n",
    "            reranked = group.sort_values(['combined_score', 'rank'], ascending=[False, True])\n",
    "            reranked.reset_index(drop=True, inplace=True)\n",
    "            reranked['old_rank'] = reranked['rank']\n",
    "            reranked['rank'] = reranked.index\n",
    "\n",
    "            reranked_dfs.append(reranked)\n",
    "\n",
    "        final = pd.concat(reranked_dfs) if reranked_dfs else pd.DataFrame()\n",
    "        return final\n",
    "    \n",
    "ce_pipeline = bm25 >> CrossEncoderReranker(text_field=\"text\", top_k=100)\n"
   ]
  },
  {
   "cell_type": "code",
   "execution_count": 58,
   "id": "d0aa8e64",
   "metadata": {
    "ExecuteTime": {
     "end_time": "2025-06-12T20:07:12.407143Z",
     "start_time": "2025-06-12T20:07:12.403444Z"
    }
   },
   "outputs": [],
   "source": [
    "from collections import defaultdict\n",
    "\n",
    "def precision_at_k(results, qrels, k=10):\n",
    "    qrels_dict = qrels.groupby('qid')['docno'].apply(set).to_dict()\n",
    "    precisions = []\n",
    "\n",
    "    for qid, group in results.groupby('qid'):\n",
    "        relevant = qrels_dict.get(qid, set())\n",
    "        top_k_docs = group.head(k)['docno'].tolist()\n",
    "        num_relevant = sum([1 for docno in top_k_docs if docno in relevant])\n",
    "        precisions.append(num_relevant / k)\n",
    "    \n",
    "    return sum(precisions) / len(precisions)\n",
    "\n",
    "\n",
    "def recall_at_k(results, qrels, k=10):\n",
    "    qrels_dict = qrels.groupby('qid')['docno'].apply(set).to_dict()\n",
    "    recalls = []\n",
    "\n",
    "    for qid, group in results.groupby('qid'):\n",
    "        relevant = qrels_dict.get(qid, set())\n",
    "        if not relevant:\n",
    "            continue\n",
    "        top_k_docs = group.head(k)['docno'].tolist()\n",
    "        num_relevant = sum([1 for docno in top_k_docs if docno in relevant])\n",
    "        recalls.append(num_relevant / len(relevant))\n",
    "    \n",
    "    return sum(recalls) / len(recalls)\n",
    "\n",
    "\n",
    "def mean_average_precision(results, qrels):\n",
    "    qrels_dict = qrels.groupby('qid')['docno'].apply(set).to_dict()\n",
    "    average_precisions = []\n",
    "\n",
    "    for qid, group in results.groupby('qid'):\n",
    "        relevant = qrels_dict.get(qid, set())\n",
    "        if not relevant:\n",
    "            continue\n",
    "\n",
    "        hits = 0\n",
    "        precisions = []\n",
    "\n",
    "        for i, docno in enumerate(group['docno'].tolist(), start=1):\n",
    "            if docno in relevant:\n",
    "                hits += 1\n",
    "                precisions.append(hits / i)\n",
    "\n",
    "        if precisions:\n",
    "            average_precisions.append(sum(precisions) / len(relevant))\n",
    "        else:\n",
    "            average_precisions.append(0.0)\n",
    "\n",
    "    return sum(average_precisions) / len(average_precisions)\n"
   ]
  },
  {
   "cell_type": "code",
   "execution_count": 59,
   "id": "563a639e",
   "metadata": {
    "ExecuteTime": {
     "end_time": "2025-06-12T20:07:12.408423Z",
     "start_time": "2025-06-12T20:07:12.407266Z"
    }
   },
   "outputs": [],
   "source": [
    "def calculate_metrics(model, name):\n",
    "    results_df = model.transform(dataset.get_topics())\n",
    "\n",
    "    precision = precision_at_k(results_df, dataset.get_qrels(), k=5)\n",
    "    precision_10 = precision_at_k(results_df, dataset.get_qrels(), k=10)\n",
    "    recall = recall_at_k(results_df, dataset.get_qrels(), k=5)\n",
    "    recall_10 = recall_at_k(results_df, dataset.get_qrels(), k=10)\n",
    "    map_score = mean_average_precision(results_df, dataset.get_qrels())\n",
    "    \n",
    "    results = [name, precision, precision_10, recall, recall_10, map_score]\n",
    "    return results"
   ]
  },
  {
   "cell_type": "code",
   "execution_count": 60,
   "id": "60180fd5",
   "metadata": {
    "ExecuteTime": {
     "end_time": "2025-06-12T20:07:15.275346Z",
     "start_time": "2025-06-12T20:07:12.409616Z"
    }
   },
   "outputs": [],
   "source": [
    "raw_bm25_results = calculate_metrics(raw_bm25, \"Raw BM25\")"
   ]
  },
  {
   "cell_type": "code",
   "execution_count": 61,
   "id": "808648e2",
   "metadata": {
    "ExecuteTime": {
     "end_time": "2025-06-12T20:07:17.985358Z",
     "start_time": "2025-06-12T20:07:15.276254Z"
    }
   },
   "outputs": [],
   "source": [
    "bm25_results = calculate_metrics(bm25, \"BM25\")\n"
   ]
  },
  {
   "cell_type": "code",
   "execution_count": 62,
   "id": "73492cd5",
   "metadata": {
    "ExecuteTime": {
     "end_time": "2025-06-12T20:07:23.776689Z",
     "start_time": "2025-06-12T20:07:17.987894Z"
    }
   },
   "outputs": [],
   "source": [
    "pipeline_results = calculate_metrics(pipeline, \"BM25 + Bo1\")"
   ]
  },
  {
   "cell_type": "code",
   "execution_count": 63,
   "id": "5255aa79",
   "metadata": {
    "ExecuteTime": {
     "end_time": "2025-06-12T20:07:29.498305Z",
     "start_time": "2025-06-12T20:07:23.777144Z"
    }
   },
   "outputs": [],
   "source": [
    "pipeline_2_results = calculate_metrics(pipeline_2, \"BM25 + KL\")"
   ]
  },
  {
   "cell_type": "code",
   "execution_count": 64,
   "id": "6b76a64c",
   "metadata": {
    "ExecuteTime": {
     "end_time": "2025-06-12T20:07:35.104257Z",
     "start_time": "2025-06-12T20:07:29.499416Z"
    }
   },
   "outputs": [],
   "source": [
    "pipeline_3_results = calculate_metrics(pipeline_3, \"BM25 + RM3\")"
   ]
  },
  {
   "cell_type": "code",
   "execution_count": 65,
   "id": "ab0d8a04",
   "metadata": {
    "ExecuteTime": {
     "end_time": "2025-06-12T20:07:56.996738Z",
     "start_time": "2025-06-12T20:07:35.104774Z"
    }
   },
   "outputs": [],
   "source": [
    "ce_bert_results = calculate_metrics(ce_pipeline, \"BM25 + Cross Encoder\")"
   ]
  },
  {
   "cell_type": "code",
   "execution_count": 66,
   "id": "6169784f",
   "metadata": {
    "ExecuteTime": {
     "end_time": "2025-06-12T20:07:57.004805Z",
     "start_time": "2025-06-12T20:07:56.998732Z"
    }
   },
   "outputs": [
    {
     "data": {
      "text/plain": "                  Model  Precision@5  Precision@10  Recall@5  Recall@10  \\\n0              Raw BM25     0.236559      0.195699  0.086218   0.126533   \n1                  BM25     0.460215      0.351613  0.162592   0.217617   \n2            BM25 + Bo1     0.470968      0.370968  0.164555   0.222465   \n3             BM25 + KL     0.468817      0.365591  0.164229   0.218986   \n4            BM25 + RM3     0.475269      0.370968  0.164860   0.224261   \n5  BM25 + Cross Encoder     0.492473      0.401075  0.169478   0.241000   \n\n        MAP  \n0  0.143478  \n1  0.296513  \n2  0.305298  \n3  0.302741  \n4  0.305449  \n5  0.297633  ",
      "text/html": "<div>\n<style scoped>\n    .dataframe tbody tr th:only-of-type {\n        vertical-align: middle;\n    }\n\n    .dataframe tbody tr th {\n        vertical-align: top;\n    }\n\n    .dataframe thead th {\n        text-align: right;\n    }\n</style>\n<table border=\"1\" class=\"dataframe\">\n  <thead>\n    <tr style=\"text-align: right;\">\n      <th></th>\n      <th>Model</th>\n      <th>Precision@5</th>\n      <th>Precision@10</th>\n      <th>Recall@5</th>\n      <th>Recall@10</th>\n      <th>MAP</th>\n    </tr>\n  </thead>\n  <tbody>\n    <tr>\n      <th>0</th>\n      <td>Raw BM25</td>\n      <td>0.236559</td>\n      <td>0.195699</td>\n      <td>0.086218</td>\n      <td>0.126533</td>\n      <td>0.143478</td>\n    </tr>\n    <tr>\n      <th>1</th>\n      <td>BM25</td>\n      <td>0.460215</td>\n      <td>0.351613</td>\n      <td>0.162592</td>\n      <td>0.217617</td>\n      <td>0.296513</td>\n    </tr>\n    <tr>\n      <th>2</th>\n      <td>BM25 + Bo1</td>\n      <td>0.470968</td>\n      <td>0.370968</td>\n      <td>0.164555</td>\n      <td>0.222465</td>\n      <td>0.305298</td>\n    </tr>\n    <tr>\n      <th>3</th>\n      <td>BM25 + KL</td>\n      <td>0.468817</td>\n      <td>0.365591</td>\n      <td>0.164229</td>\n      <td>0.218986</td>\n      <td>0.302741</td>\n    </tr>\n    <tr>\n      <th>4</th>\n      <td>BM25 + RM3</td>\n      <td>0.475269</td>\n      <td>0.370968</td>\n      <td>0.164860</td>\n      <td>0.224261</td>\n      <td>0.305449</td>\n    </tr>\n    <tr>\n      <th>5</th>\n      <td>BM25 + Cross Encoder</td>\n      <td>0.492473</td>\n      <td>0.401075</td>\n      <td>0.169478</td>\n      <td>0.241000</td>\n      <td>0.297633</td>\n    </tr>\n  </tbody>\n</table>\n</div>"
     },
     "execution_count": 66,
     "metadata": {},
     "output_type": "execute_result"
    }
   ],
   "source": [
    "table = [[\"Model\", \"Precision@5\", \"Precision@10\",  \"Recall@5\", \"Recall@10\", \"MAP\"], raw_bm25_results, bm25_results,\n",
    "        pipeline_results, pipeline_2_results, pipeline_3_results, ce_bert_results]\n",
    "df = pd.DataFrame(table[1:], columns=table[0])\n",
    "df"
   ]
  }
 ],
 "metadata": {
  "kernelspec": {
   "display_name": "limon_env",
   "language": "python",
   "name": "python3"
  },
  "language_info": {
   "codemirror_mode": {
    "name": "ipython",
    "version": 3
   },
   "file_extension": ".py",
   "mimetype": "text/x-python",
   "name": "python",
   "nbconvert_exporter": "python",
   "pygments_lexer": "ipython3",
   "version": "3.10.0"
  }
 },
 "nbformat": 4,
 "nbformat_minor": 5
}
